{
 "cells": [
  {
   "cell_type": "markdown",
   "metadata": {},
   "source": [
    "                                             Name      : Israr Ul Haq\n",
    "                                             Std.ID    : Bscsf-17-06\n",
    "                                             Topic     : Mapper And Reducer\n",
    "                                             Instructor: Sir Abdullah\n",
    "                                             Date      : 24/04/2020\n",
    "                                             \n",
    "                                               MidTerm Paper"
   ]
  },
  {
   "cell_type": "code",
   "execution_count": 1,
   "metadata": {
    "collapsed": true
   },
   "outputs": [
    {
     "name": "stdout",
     "output_type": "stream",
     "text": [
      "0:['', '', '', '', '', '', '', '', '', '', '', '']\n",
      "1:['a', 'a', 'a', 'a', 'a', '6', 'a', 'a', 'a', 'a', 'a', 'a', 'a', 'a', 'a', '-', 'a', 'a', 'a', 'a', 'a', 'a', 'a', 'a', 'a', 'a', 'a', 'a', 'a']\n",
      "2:['as', 'of', 'in', 'of', 'in', 'on', 'or', 'in', 'in', 'of', 'at', 'of', 'in', 'in', 'as', 'to', 'as', 'as', 'of', 'in', 'of', 'as', 'by', 'in', 'of', 'in', 'of', 'by', 'of', 'on', 'to', 'of', 'it', 'to', 'of', 'to', 'is', 'is', 'of', 'of', 'on', 'as', 'in', 'to', 'is', 'to', 'of', 'of', 'of', 'in', 'of', 'to', 'in', 'to', 'by', 'to', 'in', '90', 'by', 'in', 'by', 'is', 'of', 'is', 'is', 'of', 'as', 'it', 'in', 'as', 'as', 'an', 'of', 'as', 'of', 'to', 'is', 'of', 'to', 'is', 'on', 'an', 'of', 'of', 'to', 'of', 'of', 'of', 'is', 'of', 'at', 'is', 'uk', 'on', 'be', 'by', 'to', 'to', 'in', 'uk', 'to', 'to', 'is', 'to', 'as', 'as', 'it', 'is', 'of', 'is', 'in', 'it', 'is', 'by', 'it', 'is', 'of', 'in', 'is', 'by', 'to', 'to', 'to', 'to', 'it', 'is', 'by', 'in', 'of', 'of', 'of', 'to', 'by', 'of', 'by', 'of', 'is', 'to', 'in', 'of', 'it', 'is', 'an', 'in', 'an', 'an', 'in', 'in', 'of', 'as', 'of', 'in', 'to', 'to', 'of', 'as', 'in', 'in', 'is', 'as', 'as', 'it', 'is', 'of', 'is', 'by', 'of', 'by', 'of', 'to', 'is', 'of', 'of', 'is']\n",
      "3:['one', 'the', 'the', 'the', 'the', 'for', 'was', 'the', 'xia', 'has', 'and', 'the', '3rd', 'the', 'qin', 'and', 'the', 'the', 'han', '206', 'bce', '220', 'ce,', 'saw', 'the', 'and', 'the', 'and', 'the', 'and', 'the', 'and', 'the', 'the', 'new', 'far', 'and', 'the', 'the', 'the', 'the', 'was', 'and', 'war', 'ii.', 'the', 'war', 'the', 'led', 'mao', 'the', 'the', 'the', 'the', 'and', 'one', 'the', 'few', 'and', 'and', 'the', 'for', 'and', 'and', 'and', 'the', 'the', 'and', 'and', 'the', 'the', 'has', 'one', 'the', 'the', 'gdp', 'gdp', 'was', 'has', 'the', 'and', 'the', 'the', 'the', 'and', 'and', 'has', 'the', 'the', 'and', 'the', 'the', 'prc', 'the', 'the', 'roc', 'has', 'its', 'and', 'and', 'one', 'are', '100', 'the', 'for', 'two', 'and', 'the', 'the', 'the', 'can', 'the', 'the', 'the', 'can', 'the', 'who', 'for', '\"at', 'who', 'the', 'she', 'was', '\"80', 'and', 'the', 'six', 'the', 'for', 'her', 'set', 'two', 'she', 'she', 'was', 'the', 'the', 'the', 'the', 'the', 'the', 'the', 'has', 'the', 'sea', 'and', 'the', 'and', 'the', 'the', 'the', 'and', 'the', 'the', 'and', 'the', 'now', 'was', 'the', 'and', 'the', 'the', 'the', 'the', 'and', 'the', 'age', 'and', 'was', 'and', 'and', 'the', 'has', 'and', 'the', 'iii', 'the', 'the', 'the', 'the', 'the', 'the', 'the', 'the', 'the', 'the', 'the', 'the', 'the', 'the', 'the', 'and', 'and', 'war', 'and', 'the', 'the', 'new', 'new', 'all', 'are', 'the', 'the', 'and', 'has', 'the', 'the', 'and', 'the', 'and', 'the', 'and', 'one', 'the', 'and', 'has', 'and', 'the', 'and', 'the', 'un,', 'the', 'the', 'the', 'the', 'the', 'and']\n",
      "4:['with', '21st', 'bce.', 'bce,', 'core', 'from', 'some', 'most', 'that', 'with', 'type', 'tang', 'song', 'four', 'tang', 'silk', 'horn', 'rule', '1912', 'with', 'when', 'qing', '1949', 'when', '1996', 'when', 'this', 'day.', 'have', 'mass', 'down', 'such', 'says', 'that', 'that', 'take', 'into', 'been', 'with', 'grew', 'from', '$150', '1978', '2018', 'yuan', 'been', 'gdp,', 'ppp.', 'also', 'well', 'plus', 'been', 'safe', 'this', 'last', 'from', 'even', 'over', 'this', 'last', 'last', 'mike', 'said', 'year', 'team', 'told', 'that', 'time', 'down', 'told', 'that', 'were', 'with', 'plan', 'soon', 'with', 'gulf', 'oman', 'iran', 'from', 'also', 'with', 'that', 'site', 'with', 'site', 'home', 'area', 'been', 'arab', 'sikh', 'and,', 'most', 'only', 'have', 'been', 'name', 'with', '1971', 'east', 'that', 'laws', 'laid', 'down', 'also', 'well', 'been', 'with', 'face', 'oic,']\n",
      "5:['china', 'first', 'basin', 'river', 'north', 'china', 'based', 'since', 'then,', 'china', 'china', 'first', 'which', 'ruled', 'until', 'time,', 'along', 'great', 'asia,', 'route', 'ended', 'china', '(roc)', 'japan', 'world', 'civil', 'party', 'china', 'china', 'china', 'while', 'where', 'until', 'china', 'human', 'human', '1989.', 'right', 'other', 'types', 'human', 'human', 'since', '1978,', 'rates', 'above', 'world', 'bank,', '2017.', 'data,', 'since', '2010,', 'china', 'since', '2014,', 'world', 'china', 'china', 'state', 'army,', 'army,', '1971,', 'asean', 'china', 'large', 'phase', 'about', 'phase', 'often', 'phase', 'final', 'phase', 'scale', 'often', 'time.', 'phase', 'ryan,', 'least', 'sarah', 'times', 'their', 'could', 'ready', 'human', 'begin', 'about', 'added', 'start', 'which', 'could', 'allow', 'south', 'asia.', '212.2', 'area,', 'along', 'south', 'india', 'east,', 'west,', 'china', 'oman.', 'indus', 'later', 'ruled', 'ruled', 'gupta', 'delhi', '1956,', 'civil', '1973,', 'which', 'islam', 'quran', 'armed', 'world', 'power', 'among', 'class', 'since', 'rule,', 'major', 'ally.']\n",
      "6:['yellow', 'plain.', 'system', 'times.', 'spread', 'widely', 'xinhai', 'china,', 'whole,', 'feudal', 'during', 'zedong', 'island', 'taiwan', 'taiwan', 'status', 'taiwan', 'rights', 'groups', 'rights', 'ethnic', 'rights', 'notion', 'rights', 'should', 'level.', 'annual', 'growth', '$12.24', '($13.5', 'goods.', 'member', 'united', 'active', 'global', 'mainly', 'trials', 'assess', 'trials', 'mainly', 'months', 'years.', 'larger', 'across', 'period', 'years.', 'month,', 'health', 'away\".', 'oxford', 'trials', \"team's\", 'weeks.', 'create', 'before', 'public', 'access', 'proven', 'square', 'square', 'wakhan', 'shares', 'border', 'indian', 'bronze', 'valley', 'people', 'faiths', 'sikhs.', 'indian', 'maurya', 'kushan', 'ghurid', 'mongol', 'mughal', 'afghan', 'empire', 'indian', 'islam.', 'ethnic', 'indian', 'middle', 'forces', 'state.', 'ranked', 'world,', 'backed', 'middle', 'india.', 'member', 'saarc,']\n",
      "7:['emerged', \"world's\", 'fertile', \"china's\", 'dynasty', 'century', 'century', 'chinese', 'empire.', 'medical', 'movable', 'dynasty', 'culture', 'brought', 'traders', 'africa.', 'ravaged', 'chinese', 'remains', 'unitary', 'states.', 'chinese', 'abuses,', 'chinese', 'account', 'present', 'reforms', \"china's\", 'economy', \"world's\", \"china's\", 'billion', \"china's\", \"world's\", 'economy', 'nominal', 'largest', 'economy', \"world's\", 'largest', 'nuclear', 'weapons', \"world's\", 'largest', 'defense', 'budget.', 'nations', 'council', 'partner', 'because', 'massive', 'usually', 'whether', 'vaccine', 'humans.', 'involve', 'several', 'hundred', 'vaccine', 'against', 'several', 'several', 'people,', 'several', 'medical', 'further', 'vaccine', 'defined', 'several', 'vaccine', 'heading', 'percent', 'vaccine', 'cutting', 'months.', 'gilbert', 'vaccine', 'working', 'vaccine', 'vaccine', 'islamic', 'country', \"world's\", 'country', '881,913', 'miles).', 'arabian', 'several', 'ancient', 'history', 'broader', 'ancient', 'history', 'hindus,', 'afghans', 'empires', 'persian', 'empire,', 'empire,', 'empire,', 'empire,', 'umayyad', 'empire,', 'empire,', 'empire,', 'durrani', 'empire,', 'british', 'empire.', 'country', 'created', 'diverse', 'diverse', 'adopted', 'islamic', 'country', 'adopted', 'conform', 'sunnah.', 'nuclear', \"world's\", 'largest', 'history', 'periods', 'country', 'islamic', 'counter']\n",
      "8:['numerous', 'reunited', 'dynasty,', 'advanced', 'compass,', 'northern', 'dynastic', 'republic', 'replaced', 'dynasty.', 'resulted', 'division', \"people's\", 'republic', 'mainland', 'governed', 'disputed', 'republic', 'existing', 'cracking', 'protests', 'economic', 'economic', 'economic', 'percent.', 'trillion', 'official', 'trillion', 'exporter', 'importer', 'standing', \"people's\", 'security', 'replaced', 'economy,', 'powerful', 'evaluate', 'efficacy', 'disease.', 'assesses', 'efficacy', 'director', 'however,', 'gilbert,', 'vaccine,', 'saturday', 'possible', 'republic', 'populous', 'million.', 'country,', 'spanning', '(340,509', 'pakistan', 'bordered', 'narrowly', 'corridor', 'maritime', 'pakistan', 'cultures', 'involves', 'mehrgarh', 'kingdoms', 'muslims,', 'numerous', 'macedon,', 'seleucid', 'pakistan', 'country,', 'pakistan', 'becoming', 'military', 'resulted', 'pakistan', 'pakistan', 'standing', 'declared', 'emerging', 'military', 'poverty,', 'pakistan', 'shanghai', 'nations,', 'military', 'non-nato']\n",
      "9:['political', 'beginning', 'expanded,', 'including', 'invention', 'gunpowder', 'completed', 'territory', 'communist', 'retreated', 'political', 'one-party', 'socialist', 'socialist', 'political', 'denounced', 'religious', \"country's\", 'according', 'according', 'permanent', 'potential', 'military.', 'involving', 'subjects,', 'thousands', 'executive', 'professor', 'effective', 'september', 'estimated', 'newspaper', 'pakistan,', 'exceeding', 'coastline', 'separated', 'territory', 'neolithic', 'different', 'cultures,', 'including', 'including', 'alexander', 'recently,', 'similarly', 'geography', 'wildlife.', 'initially', 'dominion,', 'republic.', 'secession', 'economies', 'political', 'political', 'conflicts', 'continues', 'problems,', 'including', 'terrorism']\n",
      "10:['millennia,', 'hereditary', 'dynasties,', 'fractured,', 're-unified', 'succeeding', 'technology', 'warlordism', 'subsequent', 'government', 'democracy.', 'dissidents', 'criticized', 'government', 'censorship', 'government', 'trillion).', 'recognized', 'liberation', 'mechanism.', 'programme,', 'university', 'developing', 'confident\"', 'government', 'production', 'finalised,', 'effective.', 'fifth-most', 'population', 'kilometres', '(650-mile)', 'southwest,', 'northeast.', 'tajikistan', 'northwest,', 'dynasties,', 'achaemenid', 'caliphate,', 'sultanate,', 'ghaznavids', 'sultanate,', 'ethnically', 'stipulated', \"pakistan's\", 'terrorism,', 'coalition,']\n",
      "11:['monarchies,', 'established', 'papermaking', '(618â€“907)', 'inventions.', 'mesopotamia', 'revolution,', 'established', 'nationalist', 'suppression', 'minorities,', 'subsistence', 'development', 'superpower,', 'population,', 'facilities,', 'emergencies', 'coronavirus', 'vaccinology', 'afghanistan', 'constitutes', 'intertwined', 'empire,[20]', '(partially)', 'injunctions', 'instability', 'challenging', 'illiteracy,', 'corruption.', 'cooperation']\n",
      "12:['agricultural', '(960â€“1127)', 'transitioned', 'prerequisite', 'introduction', 'consistently', 'small-scale,', '33rd-largest', 'indo-greeks,', 'constitution', 'intervention', 'constitution', 'populations.', 'independence', 'commonwealth']\n",
      "13:['semi-mythical', 'improvements.', 'surveillance,', 'secondlargest', 'characterized', 'participants,', \"afghanistan's\", 'subcontinent.', 'civilisation,', 'sixth-largest', 'characterized', 'organisation,']\n",
      "14:['civilizations,', 'kuomintang-led', 'second-largest', 'second-largest', 'turco-mongols,', 'linguistically', 'power,pakistan', 'growth-leading']\n",
      "15:['fastest-growing', 'rapidly-growing', '1,046-kilometre', 'bangladesh.[23]', 'nuclear-weapons', 'fastest-growing', 'overpopulation,']\n",
      "19:['pakistan,officially']\n"
     ]
    }
   ],
   "source": [
    "# Open the file to read data from\n",
    "text = open(r\"C:\\Users\\israr\\Desktop\\counter\\Bigdata.txt\") \n",
    "    # create an empty dictionary where we will store word counts\n",
    "    # format of data in dictionary will be:\n",
    "    # {1: [words from file of length 1], 2:[words from file of length 2], ..... so on }\n",
    "d = dict() \n",
    "\n",
    "    # iterate over all the lines of our file\n",
    "for line in text:\n",
    "        # get words from the current line  \n",
    "        words = line.lower().strip().split(\" \")\n",
    "        # iterate over each word form the current line\n",
    "        for word in words:\n",
    "            # get the length of this word\n",
    "            length = len(word)\n",
    "\n",
    "            # there is no word of this length in the dictionary\n",
    "            # create a list against this length\n",
    "            # length is the key, and the value is the list of words with this length\n",
    "            if length not in d.keys(): \n",
    "                d[length] = [word]\n",
    "            # if there is already a word of this length append current word to that list\n",
    "            else:\n",
    "                d[length].append(word)\n",
    "\n",
    "for key in sorted(d.keys()):\n",
    "        print(key, end=\":\")\n",
    "        print(d[key])\n",
    "\n",
    "text.close()"
   ]
  },
  {
   "cell_type": "code",
   "execution_count": null,
   "metadata": {},
   "outputs": [],
   "source": []
  }
 ],
 "metadata": {
  "kernelspec": {
   "display_name": "Python 3",
   "language": "python",
   "name": "python3"
  },
  "language_info": {
   "codemirror_mode": {
    "name": "ipython",
    "version": 3
   },
   "file_extension": ".py",
   "mimetype": "text/x-python",
   "name": "python",
   "nbconvert_exporter": "python",
   "pygments_lexer": "ipython3",
   "version": "3.7.6"
  }
 },
 "nbformat": 4,
 "nbformat_minor": 4
}
